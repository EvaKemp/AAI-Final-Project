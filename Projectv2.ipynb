{
 "cells": [
  {
   "cell_type": "code",
   "execution_count": 1,
   "id": "be3a90c1-ae91-4b18-b8f3-0471e5167423",
   "metadata": {},
   "outputs": [
    {
     "name": "stdout",
     "output_type": "stream",
     "text": [
      "              precision    recall  f1-score   support\n",
      "\n",
      "           0       0.25      0.25      0.25         4\n",
      "           1       1.00      0.29      0.44         7\n",
      "           2       0.22      0.33      0.27         6\n",
      "           3       0.20      0.33      0.25         3\n",
      "\n",
      "    accuracy                           0.30        20\n",
      "   macro avg       0.42      0.30      0.30        20\n",
      "weighted avg       0.50      0.30      0.32        20\n",
      "\n"
     ]
    },
    {
     "name": "stderr",
     "output_type": "stream",
     "text": [
      "/Users/michaelvincenttanedo/opt/anaconda3/lib/python3.8/site-packages/sklearn/linear_model/_logistic.py:460: ConvergenceWarning: lbfgs failed to converge (status=1):\n",
      "STOP: TOTAL NO. of ITERATIONS REACHED LIMIT.\n",
      "\n",
      "Increase the number of iterations (max_iter) or scale the data as shown in:\n",
      "    https://scikit-learn.org/stable/modules/preprocessing.html\n",
      "Please also refer to the documentation for alternative solver options:\n",
      "    https://scikit-learn.org/stable/modules/linear_model.html#logistic-regression\n",
      "  n_iter_i = _check_optimize_result(\n"
     ]
    }
   ],
   "source": [
    "import pandas as pd\n",
    "from ast import literal_eval\n",
    "from sklearn.model_selection import train_test_split\n",
    "from sklearn.preprocessing import LabelEncoder\n",
    "from sklearn.linear_model import LogisticRegression\n",
    "from sklearn.metrics import classification_report\n",
    "\n",
    "# Load the dataset\n",
    "file_path = '/Users/michaelvincenttanedo/Downloads/tetris_data.csv'\n",
    "data = pd.read_csv(file_path)\n",
    "\n",
    "# Convert the 'state' column from string representation of list to actual list\n",
    "data['state'] = data['state'].apply(literal_eval)\n",
    "\n",
    "# Flatten the 'state' lists into separate columns\n",
    "state_df = pd.DataFrame(data['state'].tolist())\n",
    "\n",
    "# Encode the 'move' column to numerical values\n",
    "label_encoder = LabelEncoder()\n",
    "data['move_encoded'] = label_encoder.fit_transform(data['move'])\n",
    "\n",
    "# Combine the state data with the other features\n",
    "X = pd.concat([state_df, data[['score']]], axis=1)\n",
    "\n",
    "# Ensure all column names are strings\n",
    "X.columns = X.columns.astype(str)\n",
    "\n",
    "y = data['move_encoded']\n",
    "\n",
    "# Split the data into training and testing sets\n",
    "X_train, X_test, y_train, y_test = train_test_split(X, y, test_size=0.2, random_state=42)\n",
    "\n",
    "# Initialize and fit the logistic regression model\n",
    "log_reg = LogisticRegression(max_iter=1000)\n",
    "log_reg.fit(X_train, y_train)\n",
    "\n",
    "# Predict on the test set\n",
    "y_pred = log_reg.predict(X_test)\n",
    "\n",
    "# Print classification report\n",
    "print(classification_report(y_test, y_pred))\n"
   ]
  },
  {
   "cell_type": "code",
   "execution_count": 2,
   "id": "7cf167d5-5cad-4825-83dc-91f6a1a1e5aa",
   "metadata": {},
   "outputs": [
    {
     "name": "stdout",
     "output_type": "stream",
     "text": [
      "              precision    recall  f1-score   support\n",
      "\n",
      "           0       0.20      0.25      0.22         4\n",
      "           1       0.67      0.29      0.40         7\n",
      "           2       0.44      0.67      0.53         6\n",
      "           3       0.00      0.00      0.00         3\n",
      "\n",
      "    accuracy                           0.35        20\n",
      "   macro avg       0.33      0.30      0.29        20\n",
      "weighted avg       0.41      0.35      0.34        20\n",
      "\n"
     ]
    }
   ],
   "source": [
    "import pandas as pd\n",
    "from ast import literal_eval\n",
    "from sklearn.model_selection import train_test_split\n",
    "from sklearn.preprocessing import LabelEncoder, StandardScaler\n",
    "from sklearn.linear_model import LogisticRegression\n",
    "from sklearn.metrics import classification_report\n",
    "\n",
    "# Load the dataset\n",
    "file_path = '/Users/michaelvincenttanedo/Downloads/tetris_data.csv'\n",
    "data = pd.read_csv(file_path)\n",
    "\n",
    "# Convert the 'state' column from string representation of list to actual list\n",
    "data['state'] = data['state'].apply(literal_eval)\n",
    "\n",
    "# Flatten the 'state' lists into separate columns\n",
    "state_df = pd.DataFrame(data['state'].tolist())\n",
    "\n",
    "# Encode the 'move' column to numerical values\n",
    "label_encoder = LabelEncoder()\n",
    "data['move_encoded'] = label_encoder.fit_transform(data['move'])\n",
    "\n",
    "# Combine the state data with the other features\n",
    "X = pd.concat([state_df, data[['score']]], axis=1)\n",
    "\n",
    "# Ensure all column names are strings\n",
    "X.columns = X.columns.astype(str)\n",
    "\n",
    "y = data['move_encoded']\n",
    "\n",
    "# Split the data into training and testing sets\n",
    "X_train, X_test, y_train, y_test = train_test_split(X, y, test_size=0.2, random_state=42)\n",
    "\n",
    "# Scale the features\n",
    "scaler = StandardScaler()\n",
    "X_train_scaled = scaler.fit_transform(X_train)\n",
    "X_test_scaled = scaler.transform(X_test)\n",
    "\n",
    "# Initialize and fit the logistic regression model with more iterations\n",
    "log_reg = LogisticRegression(max_iter=2000)\n",
    "log_reg.fit(X_train_scaled, y_train)\n",
    "\n",
    "# Predict on the test set\n",
    "y_pred = log_reg.predict(X_test_scaled)\n",
    "\n",
    "# Print classification report\n",
    "print(classification_report(y_test, y_pred))\n"
   ]
  },
  {
   "cell_type": "code",
   "execution_count": null,
   "id": "76101cfa-2eed-40e8-99a3-df50a8f5c6a0",
   "metadata": {},
   "outputs": [],
   "source": []
  }
 ],
 "metadata": {
  "kernelspec": {
   "display_name": "Python 3",
   "language": "python",
   "name": "python3"
  },
  "language_info": {
   "codemirror_mode": {
    "name": "ipython",
    "version": 3
   },
   "file_extension": ".py",
   "mimetype": "text/x-python",
   "name": "python",
   "nbconvert_exporter": "python",
   "pygments_lexer": "ipython3",
   "version": "3.8.8"
  }
 },
 "nbformat": 4,
 "nbformat_minor": 5
}
